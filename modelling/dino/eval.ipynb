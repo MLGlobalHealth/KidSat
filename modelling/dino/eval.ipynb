{
 "cells": [
  {
   "cell_type": "code",
   "execution_count": 17,
   "metadata": {},
   "outputs": [
    {
     "name": "stderr",
     "output_type": "stream",
     "text": [
      "100%|██████████| 4/4 [00:02<00:00,  1.54it/s]\n"
     ]
    },
    {
     "name": "stdout",
     "output_type": "stream",
     "text": [
      "start\n",
      "Test score (MAE): 0.1554161289806102\n"
     ]
    },
    {
     "name": "stderr",
     "output_type": "stream",
     "text": [
      "100%|██████████| 4/4 [00:04<00:00,  1.06s/it]\n"
     ]
    },
    {
     "name": "stdout",
     "output_type": "stream",
     "text": [
      "start\n",
      "Test score (MAE): 0.16068112561225867\n"
     ]
    },
    {
     "name": "stderr",
     "output_type": "stream",
     "text": [
      "100%|██████████| 4/4 [00:04<00:00,  1.14s/it]\n"
     ]
    },
    {
     "name": "stdout",
     "output_type": "stream",
     "text": [
      "start\n",
      "Test score (MAE): 0.16200557977329602\n"
     ]
    },
    {
     "name": "stderr",
     "output_type": "stream",
     "text": [
      "100%|██████████| 4/4 [00:04<00:00,  1.15s/it]\n"
     ]
    },
    {
     "name": "stdout",
     "output_type": "stream",
     "text": [
      "start\n",
      "Test score (MAE): 0.16801169055165058\n"
     ]
    },
    {
     "name": "stderr",
     "output_type": "stream",
     "text": [
      "100%|██████████| 4/4 [00:04<00:00,  1.13s/it]\n"
     ]
    },
    {
     "name": "stdout",
     "output_type": "stream",
     "text": [
      "start\n",
      "Test score (MAE): 0.15644389039711698\n"
     ]
    }
   ],
   "source": [
    "import pandas as pd\n",
    "import numpy as np\n",
    "from sklearn.linear_model import RidgeCV\n",
    "from sklearn.model_selection import cross_val_score, KFold\n",
    "from sklearn.pipeline import Pipeline\n",
    "from tqdm import tqdm\n",
    "import warnings\n",
    "warnings.filterwarnings(\"ignore\")\n",
    "test_scores = []\n",
    "for i in range(1,6):\n",
    "    X_train = pd.DataFrame()\n",
    "    X_test = pd.DataFrame()\n",
    "    for gp in tqdm([[4,3,2],[8, 4, 2], [13, 1, 3], [12, 8, 2]]):\n",
    "        new_train = pd.read_csv(f'results/split_spatialS_{i}_{gp}/X_train.csv')\n",
    "        new_test = pd.read_csv(f'results/split_spatialS_{i}_{gp}/X_test.csv')\n",
    "        X_train = pd.concat([X_train, new_train], axis=1)\n",
    "        X_test = pd.concat([X_test, new_test], axis=1)\n",
    "    y_train = pd.read_csv(f'results/split_spatialS_{i}_{gp}/y_train.csv')\n",
    "    y_test = pd.read_csv(f'results/split_spatialS_{i}_{gp}/y_test.csv')\n",
    "    alphas = np.logspace(-6, 6, 20)\n",
    "    print('start')\n",
    "    # Define the model and pipeline\n",
    "    ridge_pipeline = Pipeline([\n",
    "        # ('scaler', StandardScaler()),\n",
    "        ('ridge', RidgeCV(alphas=alphas, cv=5, scoring='neg_mean_absolute_error'))\n",
    "    ])\n",
    "\n",
    "\n",
    "    ridge_pipeline.fit(X_train, y_train)\n",
    "    test_score= np.mean(np.abs(ridge_pipeline.predict(X_test)- y_test))\n",
    "    test_scores.append(test_score)\n",
    "    print(\"Test score (MAE):\", test_score)"
   ]
  },
  {
   "cell_type": "code",
   "execution_count": 18,
   "metadata": {},
   "outputs": [
    {
     "data": {
      "text/plain": [
       "(0.16051168306298647, 0.002010195603094569)"
      ]
     },
     "execution_count": 18,
     "metadata": {},
     "output_type": "execute_result"
    }
   ],
   "source": [
    "np.mean(test_scores), np.std(test_scores)/np.sqrt(5)"
   ]
  },
  {
   "cell_type": "code",
   "execution_count": null,
   "metadata": {},
   "outputs": [],
   "source": []
  }
 ],
 "metadata": {
  "kernelspec": {
   "display_name": "Python 3 (ipykernel)",
   "language": "python",
   "name": "python3"
  },
  "language_info": {
   "codemirror_mode": {
    "name": "ipython",
    "version": 3
   },
   "file_extension": ".py",
   "mimetype": "text/x-python",
   "name": "python",
   "nbconvert_exporter": "python",
   "pygments_lexer": "ipython3",
   "version": "3.10.14"
  }
 },
 "nbformat": 4,
 "nbformat_minor": 2
}
