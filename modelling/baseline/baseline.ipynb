{
 "cells": [
  {
   "cell_type": "markdown",
   "metadata": {},
   "source": [
    "## Spatial"
   ]
  },
  {
   "cell_type": "code",
   "execution_count": null,
   "metadata": {},
   "outputs": [
    {
     "name": "stdout",
     "output_type": "stream",
     "text": [
      "Fold 1\n",
      "Mean Absolute Error on Test Set (Mean Prediction): 0.28993896515870826\n",
      "Mean Absolute Error on Test Set (GPR): 0.24367737636565168\n",
      "Fold 2\n",
      "Mean Absolute Error on Test Set (Mean Prediction): 0.2974678297958738\n",
      "Mean Absolute Error on Test Set (GPR): 0.24340490709614693\n",
      "Fold 3\n",
      "Mean Absolute Error on Test Set (Mean Prediction): 0.29090025463197977\n",
      "Mean Absolute Error on Test Set (GPR): 0.24351044205309838\n",
      "Fold 4\n",
      "Mean Absolute Error on Test Set (Mean Prediction): 0.298344487596565\n",
      "Mean Absolute Error on Test Set (GPR): 0.24446421775968433\n",
      "Fold 5\n",
      "Mean Absolute Error on Test Set (Mean Prediction): 0.28851258984629424\n",
      "Mean Absolute Error on Test Set (GPR): 0.24299212737466608\n"
     ]
    }
   ],
   "source": [
    "from sklearn.pipeline import make_pipeline\n",
    "from sklearn.preprocessing import StandardScaler\n",
    "from sklearn.gaussian_process import GaussianProcessRegressor\n",
    "from sklearn.dummy import DummyRegressor\n",
    "\n",
    "from sklearn.metrics import mean_absolute_error\n",
    "\n",
    "import os\n",
    "import pandas as pd\n",
    "maes_dummy = []\n",
    "maes_gpr = []\n",
    "data_folder = r'../../survey_processing/processed_data/'\n",
    "for i in range(5):\n",
    "    fold = i + 1\n",
    "    print('Fold', fold)\n",
    "    target='deprived_sev'\n",
    "    train_df = pd.read_csv(f'{data_folder}train_fold_{fold}.csv', index_col=0).dropna(subset = [target])\n",
    "    test_df = pd.read_csv(f'{data_folder}test_fold_{fold}.csv', index_col=0).dropna(subset = [target])\n",
    "\n",
    "\n",
    "    X_test, y_test = test_df[['LATNUM', 'LONGNUM']], test_df[target]\n",
    "    X_train, y_train = train_df[['LATNUM', 'LONGNUM']], train_df[target]\n",
    "    dummy = DummyRegressor()\n",
    "    gpr = make_pipeline(StandardScaler(), GaussianProcessRegressor())\n",
    "\n",
    "    dummy.fit(X_train, y_train)\n",
    "    gpr.fit(X_train, y_train)\n",
    "    # Predict on test data\n",
    "    y_pred_dummy = dummy.predict(X_test)\n",
    "    y_pred_gpr = gpr.predict(X_test)\n",
    "\n",
    "    # Evaluate the model using Mean Absolute Error (MAE)\n",
    "    mae_dummy = mean_absolute_error(y_test, y_pred_dummy)\n",
    "    mae_gpr = mean_absolute_error(y_test, y_pred_gpr)\n",
    "    maes_dummy.append(mae_dummy)\n",
    "    maes_gpr.append(mae_gpr)\n",
    "    print(\"Mean Absolute Error on Test Set (Mean Prediction):\", mae_dummy)\n",
    "    print(\"Mean Absolute Error on Test Set (GPR):\", mae_gpr)\n"
   ]
  },
  {
   "cell_type": "code",
   "execution_count": 2,
   "metadata": {},
   "outputs": [
    {
     "name": "stdout",
     "output_type": "stream",
     "text": [
      "0.29303282540588416 0.0018158786084546872\n",
      "0.24360981412984944 0.0002161452148912077\n"
     ]
    }
   ],
   "source": [
    "import numpy as np\n",
    "print(np.mean(maes_dummy), np.std(maes_dummy)/np.sqrt(5))\n",
    "print(np.mean(maes_gpr), np.std(maes_gpr)/np.sqrt(5))"
   ]
  },
  {
   "cell_type": "markdown",
   "metadata": {},
   "source": [
    "## Temporal"
   ]
  },
  {
   "cell_type": "code",
   "execution_count": 1,
   "metadata": {},
   "outputs": [],
   "source": [
    "from sklearn.svm import SVR\n",
    "from sklearn.dummy import DummyRegressor\n",
    "from sklearn.pipeline import make_pipeline\n",
    "from sklearn.preprocessing import StandardScaler\n",
    "from sklearn.ensemble import  RandomForestRegressor\n",
    "from sklearn.gaussian_process import GaussianProcessRegressor\n",
    "from sklearn.gaussian_process.kernels import RBF, ConstantKernel, RationalQuadratic\n",
    "from sklearn.metrics import mean_absolute_error\n",
    "import pandas as pd\n",
    "target = 'deprived_sev'\n",
    "data_folder = r'../../survey_processing/processed_data/'\n",
    "# Define the kernel: A constant kernel multiplied by an RBF kernel, plus a Rational Quadratic kernel\n",
    "kernel = ConstantKernel(1.0) * RBF(length_scale=1.0) + RationalQuadratic(length_scale=1.0, alpha=0.1)\n",
    "\n",
    "train_df = pd.read_csv(f'{data_folder}before_2020.csv', index_col=0).dropna(subset = [target])\n",
    "test_df = pd.read_csv(f'{data_folder}after_2020.csv', index_col=0).dropna(subset = [target])\n",
    "\n",
    "X_train, y_train = train_df[['LATNUM', 'LONGNUM']], train_df[target]\n",
    "X_test, y_test = test_df[['LATNUM', 'LONGNUM']], test_df[target]\n",
    "dummy = DummyRegressor()\n",
    "gpr = make_pipeline(StandardScaler(), GaussianProcessRegressor(kernel=kernel))\n",
    "\n",
    "dummy.fit(X_train, y_train)\n",
    "gpr.fit(X_train, y_train)\n",
    "# Predict on test data\n",
    "y_pred_dummy = dummy.predict(X_test)\n",
    "y_pred_gpr = gpr.predict(X_test)\n",
    "\n",
    "# Evaluate the model using Mean Absolute Error (MAE)\n",
    "mae_dummy = mean_absolute_error(y_test, y_pred_dummy)\n",
    "mae_gpr = mean_absolute_error(y_test, y_pred_gpr)\n",
    "maes_dummy.append(mae_dummy)\n",
    "maes_gpr.append(mae_gpr)\n",
    "print(\"Mean Absolute Error on Test Set (Mean Prediction):\", mae_dummy)\n",
    "print(\"Mean Absolute Error on Test Set (GPR):\", mae_gpr)"
   ]
  },
  {
   "cell_type": "code",
   "execution_count": null,
   "metadata": {},
   "outputs": [],
   "source": []
  }
 ],
 "metadata": {
  "kernelspec": {
   "display_name": "Python 3",
   "language": "python",
   "name": "python3"
  },
  "language_info": {
   "codemirror_mode": {
    "name": "ipython",
    "version": 3
   },
   "file_extension": ".py",
   "mimetype": "text/x-python",
   "name": "python",
   "nbconvert_exporter": "python",
   "pygments_lexer": "ipython3",
   "version": "3.9.18"
  }
 },
 "nbformat": 4,
 "nbformat_minor": 2
}
