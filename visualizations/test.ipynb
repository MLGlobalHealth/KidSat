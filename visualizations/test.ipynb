{
 "cells": [
  {
   "cell_type": "code",
   "execution_count": 2,
   "metadata": {},
   "outputs": [
    {
     "data": {
      "text/plain": [
       "['Test Score (negative MAE): 0.3213043265618561\\n',\n",
       " 'Test Score (negative MAE): 0.26427257486484296\\n',\n",
       " 'Test Score (negative MAE): 0.22921446959860942\\n',\n",
       " 'Test Score (negative MAE): 0.20552286764427793\\n',\n",
       " 'Test Score (negative MAE): 0.2872022116556897\\n',\n",
       " 'Test Score (negative MAE): 0.23098749134159094\\n',\n",
       " 'Test Score (negative MAE): 0.2840508669449293\\n',\n",
       " 'Test Score (negative MAE): 0.37865802038167085\\n',\n",
       " 'Test Score (negative MAE): 0.20991400006286254\\n',\n",
       " 'Test Score (negative MAE): 0.25590726271582476\\n',\n",
       " 'Test Score (negative MAE): 0.2548860305321725\\n',\n",
       " 'Test Score (negative MAE): 0.28640519558502125\\n',\n",
       " 'Test Score (negative MAE): 0.20388620807347044\\n',\n",
       " 'Test Score (negative MAE): 0.25561986041457857\\n']"
      ]
     },
     "execution_count": 2,
     "metadata": {},
     "output_type": "execute_result"
    }
   ],
   "source": [
    "\n",
    "with open('/home/cs-yang3/rds/rds-t2-cs177-KNoCjrg2atA/cs-yang3/code/KidSat/archive_logs/eoocL_all.log', 'r') as file:\n",
    "    log_content = file.readlines()\n",
    "\n",
    "log_content = [line for line in log_content if 'Test' in line or 'test' in line]\n",
    "log_content"
   ]
  },
  {
   "cell_type": "code",
   "execution_count": null,
   "metadata": {},
   "outputs": [],
   "source": []
  }
 ],
 "metadata": {
  "kernelspec": {
   "display_name": "sat",
   "language": "python",
   "name": "python3"
  },
  "language_info": {
   "codemirror_mode": {
    "name": "ipython",
    "version": 3
   },
   "file_extension": ".py",
   "mimetype": "text/x-python",
   "name": "python",
   "nbconvert_exporter": "python",
   "pygments_lexer": "ipython3",
   "version": "3.10.14"
  }
 },
 "nbformat": 4,
 "nbformat_minor": 2
}
