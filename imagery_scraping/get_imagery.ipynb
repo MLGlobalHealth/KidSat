{
 "cells": [
  {
   "cell_type": "markdown",
   "metadata": {},
   "source": [
    "### Use the following to get imagery of all data for Landsat"
   ]
  },
  {
   "cell_type": "code",
   "execution_count": 10,
   "metadata": {},
   "outputs": [
    {
     "name": "stdout",
     "output_type": "stream",
     "text": [
      "Skipping .DS_Store\n",
      "Skipping dhs_variables.csv\n",
      "Processing RWGE54FL\n"
     ]
    },
    {
     "name": "stderr",
     "output_type": "stream",
     "text": [
      " 19%|█▉        | 88/462 [03:31<11:49,  1.90s/it]"
     ]
    }
   ],
   "source": [
    "from download_imagery import download_imagery\n",
    "import os\n",
    "import geopandas as gpd\n",
    "# processed = ['UGGE7AFL','KEGE8AFL',\"ZMGE61FL\",\"MWGE4BFL\",\n",
    "#     \"MWGE62FL\",\"UGGE43FL\",\"KMGE61FL\",\"TZGE43FL\",\n",
    "#     'AOGE71FL',\"ETGE61FL\",\"MWGE43FL\",\"RWGE72FL\",\"LSGE71FL\",\n",
    "#     'MDGE53FL', 'ZWGE61FL','RWGE54FL','LSGE62FL','BUGE71FL',\n",
    "#     'ETGE52FL',\"TZGE61FL\",\"ZWGE72FL\",\"UGGE61FL\",\"KEGE71FL\",\n",
    "#     'MWGE7AFL','MDGE81FL','ZMGE52FL','RWGE81FL','LSGE42FL',\n",
    "#     'MZGE61FL',\"RWGE61FL\",'ETGE42FL','ETGE71FL','SZGE53FL',\n",
    "#     \"TZGE81FL\",'ZAGE71FL','KEGE52FL','ZWGE42FL','MDGE32FL',\n",
    "#     'ETGE81FL','RWGE5BFL','BUGE61FL','KEGE43FL','TZGE7AFL',\n",
    "#     'ZWGE52FL','ZMGE71FL','UGGE53FL']\n",
    "processed = ['TZGE81FL','RWGE81FL','RWGE5BFL','BUGE61FL','ZWGE72FL',\n",
    "             'ZMGE71FL','LSGE42FL','UGGE7AFL','ETGE42FL','ETGE81FL',\n",
    "             'TZGE61FL','KEGE71FL','RWGE72FL','TZGE43FL','ETGE71FL',\n",
    "             'RWGE61FL']\n",
    "dhs_data_par_dir = r'/Users/luke/Downloads/DHS/dhs_esa'\n",
    "for f in os.listdir(dhs_data_par_dir):\n",
    "    year = f[3:7]\n",
    "    if f == '.DS_Store' or not year.isdigit():\n",
    "        print('Skipping',f)\n",
    "        continue\n",
    "    for sub_f in os.listdir(os.path.join(dhs_data_par_dir, f)):\n",
    "        if sub_f.__contains__('GE') and not sub_f in processed:\n",
    "            print('Processing',sub_f) \n",
    "            if int(year)>=2013:\n",
    "                source = 'L8'\n",
    "            elif int(year)>=1999:\n",
    "                source = 'L7'\n",
    "            else:\n",
    "                source = 'L5'\n",
    "            download_imagery(os.path.join(dhs_data_par_dir, f, sub_f), sub_f[:2]+str(year)+source, str(year), source, 10, False, \n",
    "                             start_ind=0)\n",
    "            sd\n"
   ]
  },
  {
   "cell_type": "markdown",
   "metadata": {},
   "source": [
    "### Use the following to get S2 imagery"
   ]
  },
  {
   "cell_type": "code",
   "execution_count": null,
   "metadata": {},
   "outputs": [],
   "source": [
    "from download_imagery import download_imagery\n",
    "import os\n",
    "# processed = ['GMGE81FL','SLGE7AFL','CMGE71FL','MRGE71FL',\n",
    "#              'GAGE71FL','SNGE7RFL','BFGE81FL','BJGE71FL',\n",
    "#              'SNGE8RFL','SNGE81FL','CIGE81FL','SNGE7IFL',\n",
    "#              'SNGE8BFL','AOGE71FL','LBGE7AFL','NGGE7BFL',\n",
    "#              'GNGE71FL', 'MLGE7AFL','GHGE8AFL','SNGE7AFL']\n",
    "processed = ['TZGE81FL','RWGE81FL','ZWGE72FL','ZMGE71FL',\n",
    "             'UGGE7AFL','ETGE81FL','ETGE71FL','AOGE71FL',\n",
    "             'ZAGE71FL','BUGE71FL','MDGE81FL','TZGE7AFL',\n",
    "             'KEGE8AFL','MWGE7AFL']\n",
    "dhs_data_par_dir = r'/Users/luke/Downloads/DHS/dhs_esa'\n",
    "for f in os.listdir(dhs_data_par_dir):\n",
    "    year = f[3:7]\n",
    "    if not year.isdigit() or f in processed:\n",
    "        print('Skipping',f)\n",
    "        continue\n",
    "    for sub_f in os.listdir(os.path.join(dhs_data_par_dir, f)):\n",
    "        # if int(year)>=2015:\n",
    "            # print('Processing',sub_f)\n",
    "        if sub_f.__contains__('GE') and not sub_f in processed:\n",
    "            if int(year)>=2015:\n",
    "                source = 'S2'\n",
    "                print(sub_f)\n",
    "                download_imagery(os.path.join(dhs_data_par_dir, f, sub_f), sub_f[:2]+str(year)+source, str(year), source, 10, False,\n",
    "                                 start_ind=0)\n",
    "                sad"
   ]
  },
  {
   "cell_type": "code",
   "execution_count": null,
   "metadata": {},
   "outputs": [],
   "source": []
  }
 ],
 "metadata": {
  "kernelspec": {
   "display_name": "Python 3",
   "language": "python",
   "name": "python3"
  },
  "language_info": {
   "codemirror_mode": {
    "name": "ipython",
    "version": 3
   },
   "file_extension": ".py",
   "mimetype": "text/x-python",
   "name": "python",
   "nbconvert_exporter": "python",
   "pygments_lexer": "ipython3",
   "version": "3.12.5"
  }
 },
 "nbformat": 4,
 "nbformat_minor": 2
}
