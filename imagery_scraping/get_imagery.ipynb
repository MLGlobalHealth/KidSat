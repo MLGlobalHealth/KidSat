{
 "cells": [
  {
   "cell_type": "code",
   "execution_count": 1,
   "metadata": {},
   "outputs": [
    {
     "data": {
      "text/plain": [
       "{'AF': 'Afghanistan',\n",
       " 'AL': 'Albania',\n",
       " 'AO': 'Angola',\n",
       " 'AM': 'Armenia',\n",
       " 'AZ': 'Azerbaijan',\n",
       " 'BD': 'Bangladesh',\n",
       " 'BJ': 'Benin',\n",
       " 'BO': 'Bolivia',\n",
       " 'BT': 'Botswana',\n",
       " 'BR': 'Brazil',\n",
       " 'BF': 'Burkina Faso',\n",
       " 'BU': 'Burundi',\n",
       " 'KH': 'Cambodia',\n",
       " 'CM': 'Cameroon',\n",
       " 'CV': 'Cape Verde',\n",
       " 'CF': 'Central African Republic',\n",
       " 'TD': 'Chad',\n",
       " 'CO': 'Colombia',\n",
       " 'KM': 'Comoros',\n",
       " 'CG': 'Congo',\n",
       " 'CD': 'Congo Democratic Republic',\n",
       " 'CI': \"Cote d'Ivoire\",\n",
       " 'DR': 'Dominican Republic',\n",
       " 'EC': 'Ecuador',\n",
       " 'EG': 'Egypt',\n",
       " 'ES': 'El Salvador',\n",
       " 'EK': 'Equatorial Guinea',\n",
       " 'ER': 'Eritrea',\n",
       " 'SZ': 'Eswatini',\n",
       " 'ET': 'Ethiopia',\n",
       " 'GA': 'Gabon',\n",
       " 'GM': 'Gambia',\n",
       " 'GH': 'Ghana',\n",
       " 'GU': 'Guatemala',\n",
       " 'GN': 'Guinea',\n",
       " 'GY': 'Guyana',\n",
       " 'HT': 'Haiti',\n",
       " 'HN': 'Honduras',\n",
       " 'IA': 'India',\n",
       " 'ID': 'Indonesia',\n",
       " 'JO': 'Jordan',\n",
       " 'KK': 'Kazakhstan',\n",
       " 'KE': 'Kenya',\n",
       " 'KY': 'Kyrgyz Republic',\n",
       " 'LA': \"Lao People's Democratic Republic\",\n",
       " 'LS': 'Lesotho',\n",
       " 'LB': 'Liberia',\n",
       " 'MD': 'Madagascar',\n",
       " 'MW': 'Malawi',\n",
       " 'MV': 'Maldives',\n",
       " 'ML': 'Mali',\n",
       " 'MR': 'Mauritania',\n",
       " 'MX': 'Mexico',\n",
       " 'MB': 'Moldova',\n",
       " 'MA': 'Morocco',\n",
       " 'MZ': 'Mozambique',\n",
       " 'MM': 'Myanmar',\n",
       " 'NM': 'Namibia',\n",
       " 'NP': 'Nepal',\n",
       " 'NC': 'Nicaragua',\n",
       " 'NI': 'Niger',\n",
       " 'NG': 'Nigeria',\n",
       " 'OS': 'Nigeria (Ondo State)',\n",
       " 'PK': 'Pakistan',\n",
       " 'PG': 'Papua New Guinea',\n",
       " 'PY': 'Paraguay',\n",
       " 'PE': 'Peru',\n",
       " 'PH': 'Philippines',\n",
       " 'RW': 'Rwanda',\n",
       " 'WS': 'Samoa',\n",
       " 'ST': 'Sao Tome and Principe',\n",
       " 'SN': 'Senegal',\n",
       " 'SL': 'Sierra Leone',\n",
       " 'ZA': 'South Africa',\n",
       " 'LK': 'Sri Lanka',\n",
       " 'SD': 'Sudan',\n",
       " 'TJ': 'Tajikistan',\n",
       " 'TZ': 'Tanzania',\n",
       " 'TH': 'Thailand',\n",
       " 'TL': 'Timor-Leste',\n",
       " 'TG': 'Togo',\n",
       " 'TT': 'Trinidad and Tobago',\n",
       " 'TN': 'Tunisia',\n",
       " 'TR': 'Turkey',\n",
       " 'TM': 'Turkmenistan',\n",
       " 'UG': 'Uganda',\n",
       " 'UA': 'Ukraine',\n",
       " 'UZ': 'Uzbekistan',\n",
       " 'VN': 'Vietnam',\n",
       " 'YE': 'Yemen',\n",
       " 'ZM': 'Zambia',\n",
       " 'ZW': 'Zimbabwe'}"
      ]
     },
     "execution_count": 1,
     "metadata": {},
     "output_type": "execute_result"
    }
   ],
   "source": [
    "data = \"\"\"DHS Country Code\\tCountry Name\n",
    "AF\\tAfghanistan\n",
    "AL\\tAlbania\n",
    "AO\\tAngola\n",
    "AM\\tArmenia\n",
    "AZ\\tAzerbaijan\n",
    "BD\\tBangladesh\n",
    "BJ\\tBenin\n",
    "BO\\tBolivia\n",
    "BT\\tBotswana\n",
    "BR\\tBrazil\n",
    "BF\\tBurkina Faso\n",
    "BU\\tBurundi\n",
    "KH\\tCambodia\n",
    "CM\\tCameroon\n",
    "CV\\tCape Verde\n",
    "CF\\tCentral African Republic\n",
    "TD\\tChad\n",
    "CO\\tColombia\n",
    "KM\\tComoros\n",
    "CG\\tCongo\n",
    "CD\\tCongo Democratic Republic\n",
    "CI\\tCote d'Ivoire\n",
    "DR\\tDominican Republic\n",
    "EC\\tEcuador\n",
    "EG\\tEgypt\n",
    "ES\\tEl Salvador\n",
    "EK\\tEquatorial Guinea\n",
    "ER\\tEritrea\n",
    "SZ\\tEswatini\n",
    "ET\\tEthiopia\n",
    "GA\\tGabon\n",
    "GM\\tGambia\n",
    "GH\\tGhana\n",
    "GU\\tGuatemala\n",
    "GN\\tGuinea\n",
    "GY\\tGuyana\n",
    "HT\\tHaiti\n",
    "HN\\tHonduras\n",
    "IA\\tIndia\n",
    "ID\\tIndonesia\n",
    "JO\\tJordan\n",
    "KK\\tKazakhstan\n",
    "KE\\tKenya\n",
    "KY\\tKyrgyz Republic\n",
    "LA\\tLao People's Democratic Republic\n",
    "LS\\tLesotho\n",
    "LB\\tLiberia\n",
    "MD\\tMadagascar\n",
    "MW\\tMalawi\n",
    "MV\\tMaldives\n",
    "ML\\tMali\n",
    "MR\\tMauritania\n",
    "MX\\tMexico\n",
    "MB\\tMoldova\n",
    "MA\\tMorocco\n",
    "MZ\\tMozambique\n",
    "MM\\tMyanmar\n",
    "NM\\tNamibia\n",
    "NP\\tNepal\n",
    "NC\\tNicaragua\n",
    "NI\\tNiger\n",
    "NG\\tNigeria\n",
    "OS\\tNigeria (Ondo State)\n",
    "PK\\tPakistan\n",
    "PG\\tPapua New Guinea\n",
    "PY\\tParaguay\n",
    "PE\\tPeru\n",
    "PH\\tPhilippines\n",
    "RW\\tRwanda\n",
    "WS\\tSamoa\n",
    "ST\\tSao Tome and Principe\n",
    "SN\\tSenegal\n",
    "SL\\tSierra Leone\n",
    "ZA\\tSouth Africa\n",
    "LK\\tSri Lanka\n",
    "SD\\tSudan\n",
    "TJ\\tTajikistan\n",
    "TZ\\tTanzania\n",
    "TH\\tThailand\n",
    "TL\\tTimor-Leste\n",
    "TG\\tTogo\n",
    "TT\\tTrinidad and Tobago\n",
    "TN\\tTunisia\n",
    "TR\\tTurkey\n",
    "TM\\tTurkmenistan\n",
    "UG\\tUganda\n",
    "UA\\tUkraine\n",
    "UZ\\tUzbekistan\n",
    "VN\\tVietnam\n",
    "YE\\tYemen\n",
    "ZM\\tZambia\n",
    "ZW\\tZimbabwe\"\"\"\n",
    "\n",
    "# Splitting the string into lines\n",
    "lines = data.split('\\n')\n",
    "\n",
    "# Skip the header row with lines[1:]\n",
    "country_dict = {line.split('\\t')[0]: line.split('\\t')[1] for line in lines[1:]}\n",
    "country_dict"
   ]
  },
  {
   "cell_type": "code",
   "execution_count": 6,
   "metadata": {},
   "outputs": [
    {
     "name": "stdout",
     "output_type": "stream",
     "text": [
      "ZMGE61FL\n",
      "MWGE4BFL\n",
      "MWGE62FL\n",
      "UGGE43FL\n",
      "KMGE61FL\n",
      "TZGE43FL\n",
      "ETGE61FL\n",
      "MWGE43FL\n",
      "RWGE72FL\n",
      "LSGE71FL\n",
      "MDGE53FL\n",
      "ZWGE61FL\n",
      "RWGE54FL\n",
      "LSGE62FL\n",
      "ETGE52FL\n",
      "TZGE61FL\n",
      "UGGE61FL\n",
      "KEGE71FL\n",
      "ZMGE52FL\n",
      "LSGE42FL\n",
      "MZGE61FL\n",
      "RWGE61FL\n",
      "ETGE42FL\n",
      "SZGE53FL\n",
      "KEGE52FL\n",
      "ZWGE42FL\n",
      "MDGE32FL\n",
      "ETGE81FL\n"
     ]
    },
    {
     "name": "stderr",
     "output_type": "stream",
     "text": [
      "100%|██████████| 305/305 [02:52<00:00,  1.76it/s]\n"
     ]
    },
    {
     "name": "stdout",
     "output_type": "stream",
     "text": [
      "RWGE5BFL\n",
      "BUGE61FL\n",
      "KEGE43FL\n",
      "TZGE7AFL\n"
     ]
    },
    {
     "name": "stderr",
     "output_type": "stream",
     "text": [
      "100%|██████████| 608/608 [05:11<00:00,  1.95it/s]\n"
     ]
    },
    {
     "name": "stdout",
     "output_type": "stream",
     "text": [
      "ZWGE52FL\n",
      "ZMGE71FL\n"
     ]
    },
    {
     "name": "stderr",
     "output_type": "stream",
     "text": [
      "  3%|▎         | 18/545 [00:08<03:53,  2.26it/s]"
     ]
    },
    {
     "name": "stdout",
     "output_type": "stream",
     "text": [
      "110\n"
     ]
    },
    {
     "name": "stderr",
     "output_type": "stream",
     "text": [
      "  6%|▌         | 32/545 [00:16<05:44,  1.49it/s]"
     ]
    },
    {
     "name": "stdout",
     "output_type": "stream",
     "text": [
      "110\n"
     ]
    },
    {
     "name": "stderr",
     "output_type": "stream",
     "text": [
      " 12%|█▏        | 64/545 [00:34<03:40,  2.18it/s]"
     ]
    },
    {
     "name": "stdout",
     "output_type": "stream",
     "text": [
      "110\n"
     ]
    },
    {
     "name": "stderr",
     "output_type": "stream",
     "text": [
      " 33%|███▎      | 178/545 [01:29<02:46,  2.21it/s]"
     ]
    },
    {
     "name": "stdout",
     "output_type": "stream",
     "text": [
      "110\n"
     ]
    },
    {
     "name": "stderr",
     "output_type": "stream",
     "text": [
      " 43%|████▎     | 235/545 [01:58<02:18,  2.23it/s]"
     ]
    },
    {
     "name": "stdout",
     "output_type": "stream",
     "text": [
      "110\n"
     ]
    },
    {
     "name": "stderr",
     "output_type": "stream",
     "text": [
      " 51%|█████▏    | 280/545 [02:20<02:12,  2.01it/s]"
     ]
    },
    {
     "name": "stdout",
     "output_type": "stream",
     "text": [
      "110\n"
     ]
    },
    {
     "name": "stderr",
     "output_type": "stream",
     "text": [
      " 54%|█████▎    | 292/545 [02:27<02:09,  1.95it/s]"
     ]
    },
    {
     "name": "stdout",
     "output_type": "stream",
     "text": [
      "110\n"
     ]
    },
    {
     "name": "stderr",
     "output_type": "stream",
     "text": [
      " 66%|██████▌   | 359/545 [03:02<01:36,  1.93it/s]"
     ]
    },
    {
     "name": "stdout",
     "output_type": "stream",
     "text": [
      "110\n"
     ]
    },
    {
     "name": "stderr",
     "output_type": "stream",
     "text": [
      " 66%|██████▌   | 360/545 [03:04<03:10,  1.03s/it]"
     ]
    },
    {
     "name": "stdout",
     "output_type": "stream",
     "text": [
      "110\n"
     ]
    },
    {
     "name": "stderr",
     "output_type": "stream",
     "text": [
      " 86%|████████▌ | 468/545 [03:58<00:36,  2.09it/s]"
     ]
    },
    {
     "name": "stdout",
     "output_type": "stream",
     "text": [
      "110\n"
     ]
    },
    {
     "name": "stderr",
     "output_type": "stream",
     "text": [
      "100%|██████████| 545/545 [04:36<00:00,  1.97it/s]"
     ]
    },
    {
     "name": "stdout",
     "output_type": "stream",
     "text": [
      "UGGE53FL\n"
     ]
    },
    {
     "name": "stderr",
     "output_type": "stream",
     "text": [
      "\n"
     ]
    }
   ],
   "source": [
    "from download_imagery import download_imagery\n",
    "import os\n",
    "import geopandas as gpd\n",
    "processed=['UGGE7AFL','KEGE8AFL',\"ZMGE61FL\",\"MWGE4BFL\",\n",
    "    \"MWGE62FL\",\"UGGE43FL\",\"KMGE61FL\",\"TZGE43FL\",\n",
    "    'AOGE71FL',\"ETGE61FL\",\"MWGE43FL\",\"RWGE72FL\",\"LSGE71FL\",\n",
    "    'MDGE53FL', 'ZWGE61FL','RWGE54FL','LSGE62FL','BUGE71FL',\n",
    "    'ETGE52FL',\"TZGE61FL\",\"ZWGE72FL\",\"UGGE61FL\",\"KEGE71FL\",\n",
    "    'MWGE7AFL','MDGE81FL','ZMGE52FL','RWGE81FL','LSGE42FL',\n",
    "    'MZGE61FL',\"RWGE61FL\",'ETGE42FL','ETGE71FL','SZGE53FL',\n",
    "    \"TZGE81FL\",'ZAGE71FL','KEGE52FL','ZWGE42FL','MDGE32FL',\n",
    "    'ETGE81FL','RWGE5BFL','BUGE61FL','KEGE43FL','TZGE7AFL',\n",
    "    'ZWGE52FL','ZMGE71FL','UGGE53FL']\n",
    "processed = ['UGGE7AFL','KEGE8AFL','AOGE71FL','BUGE71FL','ZWGE72FL',\n",
    "             'MWGE7AFL','AOGE71FL','BUGE71FL','ZWGE72FL','MWGE7AFL',\n",
    "             'MDGE81FL','RWGE81FL','ETGE71FL','TZGE81FL','ZAGE71FL',\n",
    "             'ETGE71FL','ETGE81FL']\n",
    "i = 0\n",
    "gdfs = []\n",
    "for f in os.listdir('/data/coml-satellites/dhs_esa'):\n",
    "    year = f[3:7]\n",
    "    i+=1\n",
    "    for sub_f in os.listdir('/data/coml-satellites/dhs_esa/'+f):\n",
    "\n",
    "        if sub_f.__contains__('GE') and not sub_f in processed:\n",
    "            print(sub_f) \n",
    "            # shape_file = '/data/coml-satellites/dhs_esa/'+f+\"/\"+sub_f\n",
    "            # gdf = gpd.read_file(shape_file)\n",
    "            # # Append to the list of GeoDataFrames\n",
    "            # gdfs.append(gdf)\n",
    "            if int(year)>=2015:\n",
    "                source = 'L8'\n",
    "                download_imagery('/data/coml-satellites/dhs_esa/'+f+\"/\"+sub_f, sub_f[:2]+str(year)+source, str(year), source, 10, False)\n",
    "\n",
    "            elif int(year)>=2013:\n",
    "                source = 'L8'\n",
    "            elif int(year)>=1999:\n",
    "                source = 'L7'\n",
    "            else:\n",
    "                source = 'L5'\n",
    "            # download_imagery('/data/coml-satellites/dhs_esa/'+f+\"/\"+sub_f, sub_f[:2]+str(year)+source, str(year), source, 10, False)\n",
    "\n",
    "\n"
   ]
  },
  {
   "cell_type": "code",
   "execution_count": null,
   "metadata": {},
   "outputs": [
    {
     "data": {
      "text/html": [
       "<div>\n",
       "<style scoped>\n",
       "    .dataframe tbody tr th:only-of-type {\n",
       "        vertical-align: middle;\n",
       "    }\n",
       "\n",
       "    .dataframe tbody tr th {\n",
       "        vertical-align: top;\n",
       "    }\n",
       "\n",
       "    .dataframe thead th {\n",
       "        text-align: right;\n",
       "    }\n",
       "</style>\n",
       "<table border=\"1\" class=\"dataframe\">\n",
       "  <thead>\n",
       "    <tr style=\"text-align: right;\">\n",
       "      <th></th>\n",
       "      <th>DHSID</th>\n",
       "      <th>DHSYEAR</th>\n",
       "    </tr>\n",
       "  </thead>\n",
       "  <tbody>\n",
       "    <tr>\n",
       "      <th>5204</th>\n",
       "      <td>AO201500000001</td>\n",
       "      <td>2015.0</td>\n",
       "    </tr>\n",
       "    <tr>\n",
       "      <th>5205</th>\n",
       "      <td>AO201500000002</td>\n",
       "      <td>2015.0</td>\n",
       "    </tr>\n",
       "    <tr>\n",
       "      <th>5206</th>\n",
       "      <td>AO201500000003</td>\n",
       "      <td>2015.0</td>\n",
       "    </tr>\n",
       "    <tr>\n",
       "      <th>5207</th>\n",
       "      <td>AO201500000004</td>\n",
       "      <td>2015.0</td>\n",
       "    </tr>\n",
       "    <tr>\n",
       "      <th>5208</th>\n",
       "      <td>AO201500000005</td>\n",
       "      <td>2015.0</td>\n",
       "    </tr>\n",
       "    <tr>\n",
       "      <th>...</th>\n",
       "      <td>...</td>\n",
       "      <td>...</td>\n",
       "    </tr>\n",
       "    <tr>\n",
       "      <th>23830</th>\n",
       "      <td>TZ201500000604</td>\n",
       "      <td>2015.0</td>\n",
       "    </tr>\n",
       "    <tr>\n",
       "      <th>23831</th>\n",
       "      <td>TZ201500000605</td>\n",
       "      <td>2015.0</td>\n",
       "    </tr>\n",
       "    <tr>\n",
       "      <th>23832</th>\n",
       "      <td>TZ201500000606</td>\n",
       "      <td>2015.0</td>\n",
       "    </tr>\n",
       "    <tr>\n",
       "      <th>23833</th>\n",
       "      <td>TZ201500000607</td>\n",
       "      <td>2015.0</td>\n",
       "    </tr>\n",
       "    <tr>\n",
       "      <th>23834</th>\n",
       "      <td>TZ201500000608</td>\n",
       "      <td>2015.0</td>\n",
       "    </tr>\n",
       "  </tbody>\n",
       "</table>\n",
       "<p>2483 rows × 2 columns</p>\n",
       "</div>"
      ],
      "text/plain": [
       "                DHSID  DHSYEAR\n",
       "5204   AO201500000001   2015.0\n",
       "5205   AO201500000002   2015.0\n",
       "5206   AO201500000003   2015.0\n",
       "5207   AO201500000004   2015.0\n",
       "5208   AO201500000005   2015.0\n",
       "...               ...      ...\n",
       "23830  TZ201500000604   2015.0\n",
       "23831  TZ201500000605   2015.0\n",
       "23832  TZ201500000606   2015.0\n",
       "23833  TZ201500000607   2015.0\n",
       "23834  TZ201500000608   2015.0\n",
       "\n",
       "[2483 rows x 2 columns]"
      ]
     },
     "execution_count": 5,
     "metadata": {},
     "output_type": "execute_result"
    }
   ],
   "source": [
    "import pandas as pd\n",
    "combined_gdf = gpd.GeoDataFrame(pd.concat(gdfs, ignore_index=True))\n",
    "combined_gdf[['DHSID', 'DHSYEAR']][combined_gdf[ 'DHSYEAR']==2015]"
   ]
  },
  {
   "cell_type": "code",
   "execution_count": null,
   "metadata": {},
   "outputs": [
    {
     "name": "stdout",
     "output_type": "stream",
     "text": [
      "Burundi\n"
     ]
    }
   ],
   "source": [
    "import pycountry\n",
    "\n",
    "def country_code_to_name(country_code):\n",
    "    return country_dict[country_code]\n",
    "\n",
    "# Example Usage\n",
    "print(country_code_to_name('BU'))  # India"
   ]
  },
  {
   "cell_type": "code",
   "execution_count": null,
   "metadata": {},
   "outputs": [],
   "source": [
    "combined_gdf['COUNTRY'] = combined_gdf['DHSCC'].apply(country_code_to_name)"
   ]
  },
  {
   "cell_type": "code",
   "execution_count": null,
   "metadata": {},
   "outputs": [],
   "source": [
    "combined_gdf['SURVEY_NAME'] = [combined_gdf.iloc[i]['COUNTRY']+'_DHS_'+str(int(combined_gdf.iloc[i]['DHSYEAR'])) for i in range(combined_gdf.shape[0])]"
   ]
  },
  {
   "cell_type": "code",
   "execution_count": null,
   "metadata": {},
   "outputs": [],
   "source": [
    "combined_gdf['YEAR'] =combined_gdf['DHSYEAR'].apply(int)\n",
    "combined_gdf['CENTROID_ID']  = combined_gdf['DHSID']"
   ]
  },
  {
   "cell_type": "code",
   "execution_count": null,
   "metadata": {},
   "outputs": [],
   "source": [
    "combined_gdf[['CENTROID_ID', 'SURVEY_NAME', 'COUNTRY','YEAR', 'LATNUM', 'LONGNUM']].to_csv('dhs_centroids.csv', index=False)"
   ]
  },
  {
   "cell_type": "code",
   "execution_count": 2,
   "metadata": {},
   "outputs": [
    {
     "name": "stdout",
     "output_type": "stream",
     "text": [
      "AO2015S2  ET2016S2  KM2012L7  MD2008L7\tMW2015S2  RW2019S2  UG2000L7  ZM2013L8\n",
      "BU2016S2  ET2019L8  LS2004L7  MD2021S2\tMZ2011L7  SZ2006L7  UG2011L7  ZW1999L7\n",
      "ET2000L7  KE2008L7  LS2009L7  MW2000L7\tRW2005L7  TZ1999L7  UG2016S2  ZW2010L7\n",
      "ET2005L7  KE2014L8  LS2014L8  MW2004L7\tRW2010L7  TZ2010L7  ZA2017S2  ZW2015S2\n",
      "ET2011L7  KE2022S2  MD1997L5  MW2010L7\tRW2014L8  TZ2022S2  ZM2007L7\n"
     ]
    }
   ],
   "source": [
    "!ls /data/coml-satellites/satellite_imagery/esa_10/"
   ]
  },
  {
   "cell_type": "code",
   "execution_count": null,
   "metadata": {},
   "outputs": [],
   "source": []
  }
 ],
 "metadata": {
  "kernelspec": {
   "display_name": "Python 3",
   "language": "python",
   "name": "python3"
  },
  "language_info": {
   "codemirror_mode": {
    "name": "ipython",
    "version": 3
   },
   "file_extension": ".py",
   "mimetype": "text/x-python",
   "name": "python",
   "nbconvert_exporter": "python",
   "pygments_lexer": "ipython3",
   "version": "3.10.13"
  }
 },
 "nbformat": 4,
 "nbformat_minor": 2
}
