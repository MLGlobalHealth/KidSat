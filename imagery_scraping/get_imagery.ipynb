{
 "cells": [
  {
   "cell_type": "markdown",
   "metadata": {},
   "source": [
    "### Use the following to get imagery of all data for Landsat"
   ]
  },
  {
   "cell_type": "code",
   "execution_count": 1,
   "metadata": {},
   "outputs": [
    {
     "name": "stdout",
     "output_type": "stream",
     "text": [
      "Processing SLGE61FL\n"
     ]
    },
    {
     "name": "stderr",
     "output_type": "stream",
     "text": [
      "/rds/project/rds-KNoCjrg2atA/cs-yang3/envs/sat/lib/python3.10/site-packages/geopandas/_compat.py:124: UserWarning: The Shapely GEOS version (3.11.1-CAPI-1.17.1) is incompatible with the GEOS version PyGEOS was compiled with (3.10.4-CAPI-1.16.2). Conversions between both will be slow.\n",
      "  warnings.warn(\n"
     ]
    },
    {
     "data": {
      "text/html": [
       "<p>To authorize access needed by Earth Engine, open the following\n",
       "        URL in a web browser and follow the instructions:</p>\n",
       "        <p><a href=https://code.earthengine.google.com/client-auth?scopes=https%3A//www.googleapis.com/auth/earthengine%20https%3A//www.googleapis.com/auth/cloud-platform%20https%3A//www.googleapis.com/auth/devstorage.full_control&request_id=209xm6yAo0y7TYXYEEw4HY9_-nnLhciq07-BARqpf7s&tc=gBFowoq2DjeTtHyiKXRS6zeEBudbXovvnVO8UX2Ffug&cc=1Xz2YWYWhjZy5-OlN297uQOZeUospOWV9axOyVdthq0>https://code.earthengine.google.com/client-auth?scopes=https%3A//www.googleapis.com/auth/earthengine%20https%3A//www.googleapis.com/auth/cloud-platform%20https%3A//www.googleapis.com/auth/devstorage.full_control&request_id=209xm6yAo0y7TYXYEEw4HY9_-nnLhciq07-BARqpf7s&tc=gBFowoq2DjeTtHyiKXRS6zeEBudbXovvnVO8UX2Ffug&cc=1Xz2YWYWhjZy5-OlN297uQOZeUospOWV9axOyVdthq0</a></p>\n",
       "        <p>The authorization workflow will generate a code, which you should paste in the box below.</p>\n",
       "        "
      ],
      "text/plain": [
       "<IPython.core.display.HTML object>"
      ]
     },
     "metadata": {},
     "output_type": "display_data"
    },
    {
     "ename": "EEException",
     "evalue": "Cannot authenticate: Invalid request.",
     "output_type": "error",
     "traceback": [
      "\u001b[0;31m---------------------------------------------------------------------------\u001b[0m",
      "\u001b[0;31mEEException\u001b[0m                               Traceback (most recent call last)",
      "Input \u001b[0;32mIn [1]\u001b[0m, in \u001b[0;36m<cell line: 16>\u001b[0;34m()\u001b[0m\n\u001b[1;32m     25\u001b[0m \u001b[38;5;28;01melse\u001b[39;00m:\n\u001b[1;32m     26\u001b[0m     source \u001b[38;5;241m=\u001b[39m \u001b[38;5;124m'\u001b[39m\u001b[38;5;124mL5\u001b[39m\u001b[38;5;124m'\u001b[39m\n\u001b[0;32m---> 27\u001b[0m \u001b[43mdownload_imagery\u001b[49m\u001b[43m(\u001b[49m\u001b[43mos\u001b[49m\u001b[38;5;241;43m.\u001b[39;49m\u001b[43mpath\u001b[49m\u001b[38;5;241;43m.\u001b[39;49m\u001b[43mjoin\u001b[49m\u001b[43m(\u001b[49m\u001b[43mdhs_data_par_dir\u001b[49m\u001b[43m,\u001b[49m\u001b[43m \u001b[49m\u001b[43mf\u001b[49m\u001b[43m,\u001b[49m\u001b[43m \u001b[49m\u001b[43msub_f\u001b[49m\u001b[43m)\u001b[49m\u001b[43m,\u001b[49m\u001b[43m \u001b[49m\u001b[43msub_f\u001b[49m\u001b[43m[\u001b[49m\u001b[43m:\u001b[49m\u001b[38;5;241;43m2\u001b[39;49m\u001b[43m]\u001b[49m\u001b[38;5;241;43m+\u001b[39;49m\u001b[38;5;28;43mstr\u001b[39;49m\u001b[43m(\u001b[49m\u001b[43myear\u001b[49m\u001b[43m)\u001b[49m\u001b[38;5;241;43m+\u001b[39;49m\u001b[43msource\u001b[49m\u001b[43m,\u001b[49m\u001b[43m \u001b[49m\u001b[38;5;28;43mstr\u001b[39;49m\u001b[43m(\u001b[49m\u001b[43myear\u001b[49m\u001b[43m)\u001b[49m\u001b[43m,\u001b[49m\u001b[43m \u001b[49m\u001b[43msource\u001b[49m\u001b[43m,\u001b[49m\u001b[43m \u001b[49m\u001b[38;5;241;43m10\u001b[39;49m\u001b[43m,\u001b[49m\u001b[43m \u001b[49m\u001b[38;5;28;43;01mFalse\u001b[39;49;00m\u001b[43m)\u001b[49m\n",
      "File \u001b[0;32m/rds/project/rds-KNoCjrg2atA/cs-yang3/code/KidSat/imagery_scraping/download_imagery.py:158\u001b[0m, in \u001b[0;36mdownload_imagery\u001b[0;34m(filepath, drive, year, sensor, range_km, rgb_only, parallel, verbose)\u001b[0m\n\u001b[1;32m    143\u001b[0m \u001b[38;5;28;01mdef\u001b[39;00m \u001b[38;5;21mdownload_imagery\u001b[39m(filepath, drive, year, sensor, range_km, rgb_only, parallel \u001b[38;5;241m=\u001b[39m \u001b[38;5;28;01mTrue\u001b[39;00m, verbose \u001b[38;5;241m=\u001b[39m \u001b[38;5;28;01mFalse\u001b[39;00m):\n\u001b[1;32m    144\u001b[0m \u001b[38;5;250m    \u001b[39m\u001b[38;5;124;03m\"\"\"\u001b[39;00m\n\u001b[1;32m    145\u001b[0m \u001b[38;5;124;03m    Downloads satellite imagery for specified locations and parameters.\u001b[39;00m\n\u001b[1;32m    146\u001b[0m \n\u001b[0;32m   (...)\u001b[0m\n\u001b[1;32m    156\u001b[0m \u001b[38;5;124;03m    - NotImplementedError: If an unsupported sensor is requested.\u001b[39;00m\n\u001b[1;32m    157\u001b[0m \u001b[38;5;124;03m    \"\"\"\u001b[39;00m\n\u001b[0;32m--> 158\u001b[0m     \u001b[43mee\u001b[49m\u001b[38;5;241;43m.\u001b[39;49m\u001b[43mAuthenticate\u001b[49m\u001b[43m(\u001b[49m\u001b[43m)\u001b[49m\n\u001b[1;32m    159\u001b[0m     project_name \u001b[38;5;241m=\u001b[39m get_project_name()\n\u001b[1;32m    160\u001b[0m     ee\u001b[38;5;241m.\u001b[39mInitialize(project \u001b[38;5;241m=\u001b[39m project_name)\n",
      "File \u001b[0;32m/rds/project/rds-KNoCjrg2atA/cs-yang3/envs/sat/lib/python3.10/site-packages/ee/__init__.py:121\u001b[0m, in \u001b[0;36mAuthenticate\u001b[0;34m(authorization_code, quiet, code_verifier, auth_mode, scopes, force)\u001b[0m\n\u001b[1;32m     90\u001b[0m \u001b[38;5;28;01mdef\u001b[39;00m \u001b[38;5;21mAuthenticate\u001b[39m(\n\u001b[1;32m     91\u001b[0m     authorization_code: Optional[\u001b[38;5;28mstr\u001b[39m] \u001b[38;5;241m=\u001b[39m \u001b[38;5;28;01mNone\u001b[39;00m,\n\u001b[1;32m     92\u001b[0m     quiet: Optional[\u001b[38;5;28mbool\u001b[39m] \u001b[38;5;241m=\u001b[39m \u001b[38;5;28;01mNone\u001b[39;00m,\n\u001b[0;32m   (...)\u001b[0m\n\u001b[1;32m     96\u001b[0m     force: \u001b[38;5;28mbool\u001b[39m \u001b[38;5;241m=\u001b[39m \u001b[38;5;28;01mFalse\u001b[39;00m,\n\u001b[1;32m     97\u001b[0m ) \u001b[38;5;241m-\u001b[39m\u001b[38;5;241m>\u001b[39m Optional[\u001b[38;5;28mbool\u001b[39m]:\n\u001b[1;32m     98\u001b[0m \u001b[38;5;250m  \u001b[39m\u001b[38;5;124;03m\"\"\"Prompts the user to authorize access to Earth Engine via OAuth2.\u001b[39;00m\n\u001b[1;32m     99\u001b[0m \n\u001b[1;32m    100\u001b[0m \u001b[38;5;124;03m  Args:\u001b[39;00m\n\u001b[0;32m   (...)\u001b[0m\n\u001b[1;32m    119\u001b[0m \u001b[38;5;124;03m    True if we found valid credentials and didn't run the auth flow.\u001b[39;00m\n\u001b[1;32m    120\u001b[0m \u001b[38;5;124;03m  \"\"\"\u001b[39;00m\n\u001b[0;32m--> 121\u001b[0m   \u001b[38;5;28;01mreturn\u001b[39;00m \u001b[43moauth\u001b[49m\u001b[38;5;241;43m.\u001b[39;49m\u001b[43mauthenticate\u001b[49m\u001b[43m(\u001b[49m\u001b[43mauthorization_code\u001b[49m\u001b[43m,\u001b[49m\u001b[43m \u001b[49m\u001b[43mquiet\u001b[49m\u001b[43m,\u001b[49m\u001b[43m \u001b[49m\u001b[43mcode_verifier\u001b[49m\u001b[43m,\u001b[49m\u001b[43m \u001b[49m\u001b[43mauth_mode\u001b[49m\u001b[43m,\u001b[49m\n\u001b[1;32m    122\u001b[0m \u001b[43m                            \u001b[49m\u001b[43mscopes\u001b[49m\u001b[43m,\u001b[49m\u001b[43m \u001b[49m\u001b[43mforce\u001b[49m\u001b[43m)\u001b[49m\n",
      "File \u001b[0;32m/rds/project/rds-KNoCjrg2atA/cs-yang3/envs/sat/lib/python3.10/site-packages/ee/oauth.py:512\u001b[0m, in \u001b[0;36mauthenticate\u001b[0;34m(cli_authorization_code, quiet, cli_code_verifier, auth_mode, scopes, force)\u001b[0m\n\u001b[1;32m    509\u001b[0m \u001b[38;5;28;01mif\u001b[39;00m flow\u001b[38;5;241m.\u001b[39mdisplay_instructions(quiet):\n\u001b[1;32m    510\u001b[0m   _open_new_browser(flow\u001b[38;5;241m.\u001b[39mauth_url)\n\u001b[0;32m--> 512\u001b[0m \u001b[43mflow\u001b[49m\u001b[38;5;241;43m.\u001b[39;49m\u001b[43msave_code\u001b[49m\u001b[43m(\u001b[49m\u001b[43m)\u001b[49m\n",
      "File \u001b[0;32m/rds/project/rds-KNoCjrg2atA/cs-yang3/envs/sat/lib/python3.10/site-packages/ee/oauth.py:562\u001b[0m, in \u001b[0;36mFlow.save_code\u001b[0;34m(self, code)\u001b[0m\n\u001b[1;32m    560\u001b[0m   redirect_uri \u001b[38;5;241m=\u001b[39m \u001b[38;5;28mself\u001b[39m\u001b[38;5;241m.\u001b[39mserver\u001b[38;5;241m.\u001b[39murl\n\u001b[1;32m    561\u001b[0m   code \u001b[38;5;241m=\u001b[39m \u001b[38;5;28mself\u001b[39m\u001b[38;5;241m.\u001b[39mserver\u001b[38;5;241m.\u001b[39mfetch_code()  \u001b[38;5;66;03m# Waits for oauth callback\u001b[39;00m\n\u001b[0;32m--> 562\u001b[0m \u001b[43m_obtain_and_write_token\u001b[49m\u001b[43m(\u001b[49m\u001b[43mcode\u001b[49m\u001b[43m,\u001b[49m\u001b[43m \u001b[49m\u001b[38;5;28;43mself\u001b[39;49m\u001b[38;5;241;43m.\u001b[39;49m\u001b[43mcode_verifier\u001b[49m\u001b[43m,\u001b[49m\u001b[43m \u001b[49m\u001b[38;5;28;43mself\u001b[39;49m\u001b[38;5;241;43m.\u001b[39;49m\u001b[43mscopes\u001b[49m\u001b[43m,\u001b[49m\u001b[43m \u001b[49m\u001b[43mredirect_uri\u001b[49m\u001b[43m)\u001b[49m\n",
      "File \u001b[0;32m/rds/project/rds-KNoCjrg2atA/cs-yang3/envs/sat/lib/python3.10/site-packages/ee/oauth.py:239\u001b[0m, in \u001b[0;36m_obtain_and_write_token\u001b[0;34m(auth_code, code_verifier, scopes, redirect_uri)\u001b[0m\n\u001b[1;32m    236\u001b[0m fetched_info \u001b[38;5;241m=\u001b[39m json\u001b[38;5;241m.\u001b[39mloads(\n\u001b[1;32m    237\u001b[0m     urllib\u001b[38;5;241m.\u001b[39mrequest\u001b[38;5;241m.\u001b[39murlopen(fetch_client)\u001b[38;5;241m.\u001b[39mread()\u001b[38;5;241m.\u001b[39mdecode())\n\u001b[1;32m    238\u001b[0m \u001b[38;5;28;01mif\u001b[39;00m \u001b[38;5;124m'\u001b[39m\u001b[38;5;124merror\u001b[39m\u001b[38;5;124m'\u001b[39m \u001b[38;5;129;01min\u001b[39;00m fetched_info:\n\u001b[0;32m--> 239\u001b[0m   \u001b[38;5;28;01mraise\u001b[39;00m ee_exception\u001b[38;5;241m.\u001b[39mEEException(\n\u001b[1;32m    240\u001b[0m       \u001b[38;5;124m'\u001b[39m\u001b[38;5;124mCannot authenticate: \u001b[39m\u001b[38;5;132;01m%s\u001b[39;00m\u001b[38;5;124m'\u001b[39m \u001b[38;5;241m%\u001b[39m fetched_info[\u001b[38;5;124m'\u001b[39m\u001b[38;5;124merror\u001b[39m\u001b[38;5;124m'\u001b[39m]\n\u001b[1;32m    241\u001b[0m   )\n\u001b[1;32m    242\u001b[0m client_info \u001b[38;5;241m=\u001b[39m {k: fetched_info[k] \u001b[38;5;28;01mfor\u001b[39;00m k \u001b[38;5;129;01min\u001b[39;00m [\u001b[38;5;124m'\u001b[39m\u001b[38;5;124mclient_id\u001b[39m\u001b[38;5;124m'\u001b[39m, \u001b[38;5;124m'\u001b[39m\u001b[38;5;124mclient_secret\u001b[39m\u001b[38;5;124m'\u001b[39m]}\n\u001b[1;32m    243\u001b[0m scopes \u001b[38;5;241m=\u001b[39m fetched_info\u001b[38;5;241m.\u001b[39mget(\u001b[38;5;124m'\u001b[39m\u001b[38;5;124mscopes\u001b[39m\u001b[38;5;124m'\u001b[39m) \u001b[38;5;129;01mor\u001b[39;00m scopes\n",
      "\u001b[0;31mEEException\u001b[0m: Cannot authenticate: Invalid request."
     ]
    }
   ],
   "source": [
    "from download_imagery import download_imagery\n",
    "import os\n",
    "import geopandas as gpd\n",
    "# processed = ['UGGE7AFL','KEGE8AFL',\"ZMGE61FL\",\"MWGE4BFL\",\n",
    "#     \"MWGE62FL\",\"UGGE43FL\",\"KMGE61FL\",\"TZGE43FL\",\n",
    "#     'AOGE71FL',\"ETGE61FL\",\"MWGE43FL\",\"RWGE72FL\",\"LSGE71FL\",\n",
    "#     'MDGE53FL', 'ZWGE61FL','RWGE54FL','LSGE62FL','BUGE71FL',\n",
    "#     'ETGE52FL',\"TZGE61FL\",\"ZWGE72FL\",\"UGGE61FL\",\"KEGE71FL\",\n",
    "#     'MWGE7AFL','MDGE81FL','ZMGE52FL','RWGE81FL','LSGE42FL',\n",
    "#     'MZGE61FL',\"RWGE61FL\",'ETGE42FL','ETGE71FL','SZGE53FL',\n",
    "#     \"TZGE81FL\",'ZAGE71FL','KEGE52FL','ZWGE42FL','MDGE32FL',\n",
    "#     'ETGE81FL','RWGE5BFL','BUGE61FL','KEGE43FL','TZGE7AFL',\n",
    "#     'ZWGE52FL','ZMGE71FL','UGGE53FL']\n",
    "processed = []\n",
    "dhs_data_par_dir = r'/home/cs-yang3/rds/rds-t2-cs177-KNoCjrg2atA/wp3/data/dhs_wca'\n",
    "for f in os.listdir(dhs_data_par_dir):\n",
    "    year = f[3:7]\n",
    "    if f == '.DS_Store' or not year.isdigit():\n",
    "        print('Skipping',f)\n",
    "        continue\n",
    "    for sub_f in os.listdir(os.path.join(dhs_data_par_dir, f)):\n",
    "        if sub_f.__contains__('GE') and not sub_f in processed + faiiled:\n",
    "            print('Processing',sub_f) \n",
    "            if int(year)>=2013:\n",
    "                source = 'L8'\n",
    "            elif int(year)>=1999:\n",
    "                source = 'L7'\n",
    "            else:\n",
    "                source = 'L5'\n",
    "            download_imagery(os.path.join(dhs_data_par_dir, f, sub_f), sub_f[:2]+str(year)+source, str(year), source, 10, False)\n",
    "            \n"
   ]
  },
  {
   "cell_type": "markdown",
   "metadata": {},
   "source": [
    "### Use the following to get S2 imagery"
   ]
  },
  {
   "cell_type": "code",
   "execution_count": 2,
   "metadata": {},
   "outputs": [
    {
     "name": "stdout",
     "output_type": "stream",
     "text": [
      "Skipping graph_kUieXjrqduhkwaFx.graphml\n",
      "Skipping arXiv-2304.07702v4\n",
      "Skipping .DS_Store\n",
      "Skipping All_documents_CS_1725915908632.pdf\n",
      "Skipping .localized\n",
      "Skipping Weisfeiler-Lehman_Refinement_Requires_at_Least_a_L.pdf\n",
      "Skipping arXiv-2304.07702v4.tar\n",
      "Skipping All_documents_1725915629792.pdf\n",
      "Skipping Isomorphism_Test_Times_Plot.pdf\n",
      "Skipping Isomorphism Test Times for Different Graph Types and Models.png\n",
      "Skipping autovcl_nips_2024.pdf\n",
      "Skipping 10degree_selected_tiles.csv\n",
      "Skipping f4c74ef37e54376178de0a7ceaed62ef180959712.gif@1256w_1338h_!web-article-pic.avif.webp\n"
     ]
    }
   ],
   "source": [
    "from download_imagery import download_imagery\n",
    "import os\n",
    "processed = ['GMGE81FL','SLGE7AFL','CMGE71FL','MRGE71FL',\n",
    "             'GAGE71FL','SNGE7RFL','BFGE81FL','BJGE71FL',\n",
    "             'SNGE8RFL','SNGE81FL','CIGE81FL','SNGE7IFL',\n",
    "             'SNGE8BFL','AOGE71FL','LBGE7AFL','NGGE7BFL',\n",
    "             'GNGE71FL', 'MLGE7AFL','GHGE8AFL','SNGE7AFL']\n",
    "dhs_data_par_dir = r'/Users/luke/Downloads'\n",
    "for f in os.listdir(dhs_data_par_dir):\n",
    "    year = f[3:7]\n",
    "    if not year.isdigit() or f in processed:\n",
    "        print('Skipping',f)\n",
    "        continue\n",
    "    for sub_f in os.listdir(os.path.join(dhs_data_par_dir, f)):\n",
    "        # if int(year)>=2015:\n",
    "            # print('Processing',sub_f)\n",
    "        if sub_f.__contains__('GE') and not sub_f in processed:\n",
    "            if int(year)>=2015:\n",
    "                source = 'S2'\n",
    "                download_imagery(os.path.join(dhs_data_par_dir, f, sub_f), sub_f[:2]+str(year)+source, str(year), source, 10, False)\n",
    "                # sad"
   ]
  },
  {
   "cell_type": "code",
   "execution_count": null,
   "metadata": {},
   "outputs": [],
   "source": []
  }
 ],
 "metadata": {
  "kernelspec": {
   "display_name": "Python 3",
   "language": "python",
   "name": "python3"
  },
  "language_info": {
   "codemirror_mode": {
    "name": "ipython",
    "version": 3
   },
   "file_extension": ".py",
   "mimetype": "text/x-python",
   "name": "python",
   "nbconvert_exporter": "python",
   "pygments_lexer": "ipython3",
   "version": "3.12.5"
  }
 },
 "nbformat": 4,
 "nbformat_minor": 2
}
