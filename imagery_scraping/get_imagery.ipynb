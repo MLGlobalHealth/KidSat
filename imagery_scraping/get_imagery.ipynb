{
 "cells": [
  {
   "cell_type": "markdown",
   "metadata": {},
   "source": [
    "### Use the following to get imagery of all data for Landsat"
   ]
  },
  {
   "cell_type": "code",
   "execution_count": null,
   "metadata": {},
   "outputs": [],
   "source": [
    "from download_imagery import download_imagery\n",
    "import os\n",
    "import geopandas as gpd\n",
    "# processed = ['UGGE7AFL','KEGE8AFL',\"ZMGE61FL\",\"MWGE4BFL\",\n",
    "#     \"MWGE62FL\",\"UGGE43FL\",\"KMGE61FL\",\"TZGE43FL\",\n",
    "#     'AOGE71FL',\"ETGE61FL\",\"MWGE43FL\",\"RWGE72FL\",\"LSGE71FL\",\n",
    "#     'MDGE53FL', 'ZWGE61FL','RWGE54FL','LSGE62FL','BUGE71FL',\n",
    "#     'ETGE52FL',\"TZGE61FL\",\"ZWGE72FL\",\"UGGE61FL\",\"KEGE71FL\",\n",
    "#     'MWGE7AFL','MDGE81FL','ZMGE52FL','RWGE81FL','LSGE42FL',\n",
    "#     'MZGE61FL',\"RWGE61FL\",'ETGE42FL','ETGE71FL','SZGE53FL',\n",
    "#     \"TZGE81FL\",'ZAGE71FL','KEGE52FL','ZWGE42FL','MDGE32FL',\n",
    "#     'ETGE81FL','RWGE5BFL','BUGE61FL','KEGE43FL','TZGE7AFL',\n",
    "#     'ZWGE52FL','ZMGE71FL','UGGE53FL']\n",
    "processed = []\n",
    "dhs_data_par_dir = r'../survey_processing/dhs_data'\n",
    "for f in os.listdir(dhs_data_par_dir):\n",
    "    year = f[3:7]\n",
    "    for sub_f in os.listdir(os.path.join(dhs_data_par_dir, f)):\n",
    "        if sub_f.__contains__('GE') and not sub_f in processed:\n",
    "            print('Processing',sub_f) \n",
    "            if int(year)>=2013:\n",
    "                source = 'L8'\n",
    "            elif int(year)>=1999:\n",
    "                source = 'L7'\n",
    "            else:\n",
    "                source = 'L5'\n",
    "            download_imagery(os.path.join(dhs_data_par_dir, f, sub_f), sub_f[:2]+str(year)+source, str(year), source, 10, False)\n"
   ]
  },
  {
   "cell_type": "markdown",
   "metadata": {},
   "source": [
    "### Use the following to get S2 imagery"
   ]
  },
  {
   "cell_type": "code",
   "execution_count": null,
   "metadata": {},
   "outputs": [],
   "source": [
    "processed = []\n",
    "for f in os.listdir(dhs_data_par_dir):\n",
    "    year = f[3:7]\n",
    "    for sub_f in os.listdir(os.path.join(dhs_data_par_dir, f)):\n",
    "        if sub_f.__contains__('GE') and not sub_f in processed:\n",
    "            print('Processing',sub_f) \n",
    "            if int(year)>=2015:\n",
    "                source = 'S2'\n",
    "                download_imagery(os.path.join(dhs_data_par_dir, f, sub_f), sub_f[:2]+str(year)+source, str(year), source, 10, False)"
   ]
  }
 ],
 "metadata": {
  "kernelspec": {
   "display_name": "Python 3",
   "language": "python",
   "name": "python3"
  },
  "language_info": {
   "codemirror_mode": {
    "name": "ipython",
    "version": 3
   },
   "file_extension": ".py",
   "mimetype": "text/x-python",
   "name": "python",
   "nbconvert_exporter": "python",
   "pygments_lexer": "ipython3",
   "version": "3.9.18"
  }
 },
 "nbformat": 4,
 "nbformat_minor": 2
}
