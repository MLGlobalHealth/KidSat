{
 "cells": [
  {
   "cell_type": "code",
   "execution_count": null,
   "metadata": {},
   "outputs": [],
   "source": [
    "import pandas as pd\n",
    "import os\n",
    "dhs_wca = r'/home/cs-yang3/rds/rds-t2-cs177-KNoCjrg2atA/wp3/data/dhs/dhs_wca/'\n",
    "df = pd.read_stata(os.path.join(dhs_wca, 'AO_2015-16_DHS_09032024_853_207844', 'AOIR71DT','AOIR71FL.DTA'), convert_categoricals=False)"
   ]
  },
  {
   "cell_type": "code",
   "execution_count": null,
   "metadata": {},
   "outputs": [],
   "source": []
  },
  {
   "cell_type": "code",
   "execution_count": 2,
   "metadata": {},
   "outputs": [
    {
     "name": "stderr",
     "output_type": "stream",
     "text": [
      "/tmp/ipykernel_1200367/3720273993.py:1: PerformanceWarning: DataFrame is highly fragmented.  This is usually the result of calling `frame.insert` many times, which has poor performance.  Consider joining all columns at once using pd.concat(axis=1) instead. To get a de-fragmented frame, use `newframe = frame.copy()`\n",
      "  df['exposed_preg'] = ((df['v213'] > 0) & (df['v201'] > 0)).astype(int)\n"
     ]
    }
   ],
   "source": [
    "df['exposed_preg'] = ((df['v213'] > 0) & (df['v201'] > 0)).astype(int)"
   ]
  },
  {
   "cell_type": "code",
   "execution_count": 3,
   "metadata": {},
   "outputs": [
    {
     "name": "stderr",
     "output_type": "stream",
     "text": [
      "/tmp/ipykernel_1200367/892424802.py:4: PerformanceWarning: DataFrame is highly fragmented.  This is usually the result of calling `frame.insert` many times, which has poor performance.  Consider joining all columns at once using pd.concat(axis=1) instead. To get a de-fragmented frame, use `newframe = frame.copy()`\n",
      "  df['id'] = 'AO'+'2015'+ df['v004'].apply(make_string)\n"
     ]
    }
   ],
   "source": [
    "df = df[df['v013'] == 1] ## age group 15-19\n",
    "def make_string(integer, length = 8):\n",
    "    return str(integer).zfill(length)\n",
    "df['id'] = 'AO'+'2015'+ df['v004'].apply(make_string)\n",
    "df = df.groupby('id').mean(numeric_only=True)"
   ]
  },
  {
   "cell_type": "code",
   "execution_count": 7,
   "metadata": {},
   "outputs": [
    {
     "data": {
      "text/plain": [
       "(614, 5326)"
      ]
     },
     "execution_count": 7,
     "metadata": {},
     "output_type": "execute_result"
    }
   ],
   "source": [
    "df.shape"
   ]
  },
  {
   "cell_type": "code",
   "execution_count": null,
   "metadata": {},
   "outputs": [],
   "source": [
    "import geopandas as gpd\n",
    "import pandas as pd\n",
    "import os\n",
    "import json\n",
    "from tqdm import tqdm\n",
    "def get_youth_preg(source_path):\n",
    "   \n",
    "    for f in os.listdir(source_path):\n",
    "        if 'IR' in f:\n",
    "            individual_datafile = os.path.join(source_path, f, find_sub_file(source_path+f,'dta'))\n",
    "    survey_year = source_path.split('/')[-2][3:7]\n",
    "    country_code = source_path.split('/')[-2][:2]\n",
    "\n",
    "    dhs_ir = pd.read_stata(individual_datafile, convert_categoricals=False)\n",
    "    dhs_ir['id'] = country_code[:2]+survey_year+ dhs_ir['v004'].apply(make_string)\n",
    "\n",
    "    youth_df = dhs_ir[dhs_ir['v013'] == 1] ## age group 15-19\n",
    "    youth_df['exposed_preg'] = ((youth_df['v213'] > 0) & (youth_df['v201'] > 0)).astype(int)\n",
    "    youth_df = youth_df.groupby('id').mean(numeric_only=True).reset_index()\n",
    "    return youth_df\n",
    "\n",
    "with open(f'../survey_processing/dhs_country_code.json', 'r') as file:\n",
    "    dhs_cc = json.load(file)\n",
    "root_grid = dhs_wca\n",
    "youth_dfs = []\n",
    "print('Summarizing youth pregnancy...')\n",
    "for f in tqdm(os.listdir(root_grid)):\n",
    "    if 'DHS' in f:\n",
    "        try:\n",
    "            youth_df = get_youth_preg(root_grid+f+'/')\n",
    "            \n",
    "            youth_dfs.append(youth_df)\n",
    "        except Exception as e:\n",
    "            print(e)\n",
    "            \n",
    "\n",
    "\n",
    "dhs_df_all = pd.concat(youth_dfs)\n",
    "\n",
    "## Calculating Centroids\n",
    "print('Calculating geospatial variables...')\n",
    "gdfs = []\n",
    "for f in tqdm(os.listdir(root_grid)):\n",
    "    if 'DHS' in f:\n",
    "        for sub_f in os.listdir(os.path.join(root_grid,f)):\n",
    "            if sub_f.__contains__('GE'):\n",
    "                shape_file = os.path.join(root_grid, f, sub_f)\n",
    "                gdf = gpd.read_file(shape_file)\n",
    "                # Append to the list of GeoDataFrames\n",
    "                gdfs.append(gdf)\n",
    "combined_gdf = gpd.GeoDataFrame(pd.concat(gdfs, ignore_index=True))\n",
    "def country_code_to_name(country_code):\n",
    "    return dhs_cc[country_code]\n",
    "print('Generating ...')\n",
    "combined_gdf['COUNTRY'] = combined_gdf['DHSCC'].apply(country_code_to_name)\n",
    "combined_gdf['SURVEY_NAME'] = [combined_gdf.iloc[i]['COUNTRY']+'_DHS_'+str(int(combined_gdf.iloc[i]['DHSYEAR'])) for i in range(combined_gdf.shape[0])]\n",
    "combined_gdf['YEAR'] =combined_gdf['DHSYEAR'].apply(int)\n",
    "combined_gdf['CENTROID_ID']  = combined_gdf['DHSID']\n",
    "\n",
    "centroid_df = combined_gdf[['CENTROID_ID', 'SURVEY_NAME', 'COUNTRY','YEAR', 'LATNUM', 'LONGNUM']]\n",
    "centroid_df = centroid_df[~((centroid_df['LATNUM'] == 0) & (centroid_df['LONGNUM'] == 0))]\n",
    "centroid_df.drop_duplicates(inplace=True)\n",
    "dhs_df_all.drop_duplicates(inplace=True)\n",
    "centroid_df = centroid_df.reset_index()\n",
    "\n",
    "merged_centroid_df = pd.merge(centroid_df, dhs_df_all, left_on='CENTROID_ID', right_on='id', how='left')\n",
    "print('Saving data...')\n",
    "\n",
    "save_split(merged_centroid_df)"
   ]
  }
 ],
 "metadata": {
  "kernelspec": {
   "display_name": "sat",
   "language": "python",
   "name": "python3"
  },
  "language_info": {
   "codemirror_mode": {
    "name": "ipython",
    "version": 3
   },
   "file_extension": ".py",
   "mimetype": "text/x-python",
   "name": "python",
   "nbconvert_exporter": "python",
   "pygments_lexer": "ipython3",
   "version": "3.10.14"
  }
 },
 "nbformat": 4,
 "nbformat_minor": 2
}
